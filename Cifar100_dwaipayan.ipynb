{
 "cells": [
  {
   "cell_type": "code",
   "execution_count": 1,
   "metadata": {
    "executionInfo": {
     "elapsed": 14686,
     "status": "ok",
     "timestamp": 1700915176430,
     "user": {
      "displayName": "Utsav Das",
      "userId": "03850994718273475390"
     },
     "user_tz": -330
    },
    "id": "_Jno9uZx8ZtA"
   },
   "outputs": [],
   "source": [
    "import pickle\n",
    "import pandas as pd\n",
    "import numpy as np\n",
    "import matplotlib.pyplot as plt\n",
    "from pylab import rcParams\n",
    "import tensorflow as tf\n",
    "import keras\n",
    "get_ipython().run_line_magic('matplotlib', 'inline')\n",
    "from keras.models import Sequential, load_model\n",
    "from keras.layers import Conv2D, MaxPool2D, Dropout, Flatten, Dense\n",
    "from keras.layers import BatchNormalization\n",
    "from keras.preprocessing.image import ImageDataGenerator\n",
    "from keras.callbacks import Callback, EarlyStopping, ModelCheckpoint\n",
    "from sklearn.metrics import confusion_matrix, classification_report\n",
    "from skimage.transform import resize\n",
    "import seaborn as sns\n",
    "import cv2"
   ]
  },
  {
   "cell_type": "code",
   "execution_count": 2,
   "metadata": {
    "executionInfo": {
     "elapsed": 21,
     "status": "ok",
     "timestamp": 1700915176431,
     "user": {
      "displayName": "Utsav Das",
      "userId": "03850994718273475390"
     },
     "user_tz": -330
    },
    "id": "7SauK7HQ73eM"
   },
   "outputs": [],
   "source": [
    "def unpickle(file):\n",
    "    with open(file, 'rb') as fo:\n",
    "        myDict = pickle.load(fo, encoding='latin1')\n",
    "    return myDict"
   ]
  },
  {
   "cell_type": "code",
   "execution_count": 3,
   "metadata": {
    "executionInfo": {
     "elapsed": 7930,
     "status": "ok",
     "timestamp": 1700915184340,
     "user": {
      "displayName": "Utsav Das",
      "userId": "03850994718273475390"
     },
     "user_tz": -330
    },
    "id": "OXhA-0ST8kIc"
   },
   "outputs": [],
   "source": [
    "trainData = unpickle(r'C:\\Users\\Dwaipayan Nandi\\OneDrive\\Desktop\\projects\\CIPHAR-100\\Dataset\\train')\n",
    "testData = unpickle(r'C:\\Users\\Dwaipayan Nandi\\OneDrive\\Desktop\\projects\\CIPHAR-100\\Dataset\\test')\n",
    "metaData = unpickle(r'C:\\Users\\Dwaipayan Nandi\\OneDrive\\Desktop\\projects\\CIPHAR-100\\Dataset\\meta')"
   ]
  },
  {
   "cell_type": "code",
   "execution_count": 4,
   "metadata": {
    "colab": {
     "base_uri": "https://localhost:8080/"
    },
    "executionInfo": {
     "elapsed": 59,
     "status": "ok",
     "timestamp": 1700915184341,
     "user": {
      "displayName": "Utsav Das",
      "userId": "03850994718273475390"
     },
     "user_tz": -330
    },
    "id": "RlU9hV2Z9B6E",
    "outputId": "ed3ce3ba-a07a-459a-d642-5e6a9483f61e"
   },
   "outputs": [
    {
     "name": "stdout",
     "output_type": "stream",
     "text": [
      "filenames <class 'list'>\n",
      "batch_label <class 'str'>\n",
      "fine_labels <class 'list'>\n",
      "coarse_labels <class 'list'>\n",
      "data <class 'numpy.ndarray'>\n"
     ]
    }
   ],
   "source": [
    "for item in trainData:\n",
    "    print(item, type(trainData[item]))"
   ]
  },
  {
   "cell_type": "code",
   "execution_count": 5,
   "metadata": {
    "colab": {
     "base_uri": "https://localhost:8080/"
    },
    "executionInfo": {
     "elapsed": 54,
     "status": "ok",
     "timestamp": 1700915184341,
     "user": {
      "displayName": "Utsav Das",
      "userId": "03850994718273475390"
     },
     "user_tz": -330
    },
    "id": "E51o-YAS9Q-1",
    "outputId": "969b352d-2607-4a2a-cb7c-7fa1cc18cf48"
   },
   "outputs": [
    {
     "name": "stdout",
     "output_type": "stream",
     "text": [
      "50000\n",
      "3072\n"
     ]
    }
   ],
   "source": [
    "print(len(trainData['data']))\n",
    "print(len(trainData['data'][0]))"
   ]
  },
  {
   "cell_type": "code",
   "execution_count": 6,
   "metadata": {
    "colab": {
     "base_uri": "https://localhost:8080/",
     "height": 423
    },
    "executionInfo": {
     "elapsed": 24,
     "status": "ok",
     "timestamp": 1700915184342,
     "user": {
      "displayName": "Utsav Das",
      "userId": "03850994718273475390"
     },
     "user_tz": -330
    },
    "id": "xv-tRny8_l3-",
    "outputId": "1c2ca396-d0ee-41e5-c894-52c99e753d13"
   },
   "outputs": [
    {
     "data": {
      "text/html": [
       "<div>\n",
       "<style scoped>\n",
       "    .dataframe tbody tr th:only-of-type {\n",
       "        vertical-align: middle;\n",
       "    }\n",
       "\n",
       "    .dataframe tbody tr th {\n",
       "        vertical-align: top;\n",
       "    }\n",
       "\n",
       "    .dataframe thead th {\n",
       "        text-align: right;\n",
       "    }\n",
       "</style>\n",
       "<table border=\"1\" class=\"dataframe\">\n",
       "  <thead>\n",
       "    <tr style=\"text-align: right;\">\n",
       "      <th></th>\n",
       "      <th>SubClass</th>\n",
       "    </tr>\n",
       "  </thead>\n",
       "  <tbody>\n",
       "    <tr>\n",
       "      <th>0</th>\n",
       "      <td>apple</td>\n",
       "    </tr>\n",
       "    <tr>\n",
       "      <th>1</th>\n",
       "      <td>aquarium_fish</td>\n",
       "    </tr>\n",
       "    <tr>\n",
       "      <th>2</th>\n",
       "      <td>baby</td>\n",
       "    </tr>\n",
       "    <tr>\n",
       "      <th>3</th>\n",
       "      <td>bear</td>\n",
       "    </tr>\n",
       "    <tr>\n",
       "      <th>4</th>\n",
       "      <td>beaver</td>\n",
       "    </tr>\n",
       "    <tr>\n",
       "      <th>...</th>\n",
       "      <td>...</td>\n",
       "    </tr>\n",
       "    <tr>\n",
       "      <th>95</th>\n",
       "      <td>whale</td>\n",
       "    </tr>\n",
       "    <tr>\n",
       "      <th>96</th>\n",
       "      <td>willow_tree</td>\n",
       "    </tr>\n",
       "    <tr>\n",
       "      <th>97</th>\n",
       "      <td>wolf</td>\n",
       "    </tr>\n",
       "    <tr>\n",
       "      <th>98</th>\n",
       "      <td>woman</td>\n",
       "    </tr>\n",
       "    <tr>\n",
       "      <th>99</th>\n",
       "      <td>worm</td>\n",
       "    </tr>\n",
       "  </tbody>\n",
       "</table>\n",
       "<p>100 rows × 1 columns</p>\n",
       "</div>"
      ],
      "text/plain": [
       "         SubClass\n",
       "0           apple\n",
       "1   aquarium_fish\n",
       "2            baby\n",
       "3            bear\n",
       "4          beaver\n",
       "..            ...\n",
       "95          whale\n",
       "96    willow_tree\n",
       "97           wolf\n",
       "98          woman\n",
       "99           worm\n",
       "\n",
       "[100 rows x 1 columns]"
      ]
     },
     "execution_count": 6,
     "metadata": {},
     "output_type": "execute_result"
    }
   ],
   "source": [
    "subCategory = pd.DataFrame(metaData['fine_label_names'], columns=['SubClass'])\n",
    "subCategory"
   ]
  },
  {
   "cell_type": "code",
   "execution_count": 7,
   "metadata": {
    "colab": {
     "base_uri": "https://localhost:8080/"
    },
    "executionInfo": {
     "elapsed": 23,
     "status": "ok",
     "timestamp": 1700915184342,
     "user": {
      "displayName": "Utsav Das",
      "userId": "03850994718273475390"
     },
     "user_tz": -330
    },
    "id": "vi4F8SgB_6CO",
    "outputId": "95576a90-62cd-4bc4-ca06-269cbb97091e"
   },
   "outputs": [
    {
     "data": {
      "text/plain": [
       "array([[255, 255, 255, ...,  10,  59,  79],\n",
       "       [255, 253, 253, ..., 253, 253, 255],\n",
       "       [250, 248, 247, ..., 194, 207, 228],\n",
       "       ...,\n",
       "       [248, 240, 236, ..., 180, 174, 205],\n",
       "       [156, 151, 151, ..., 114, 107, 126],\n",
       "       [ 31,  30,  31, ...,  72,  69,  67]], dtype=uint8)"
      ]
     },
     "execution_count": 7,
     "metadata": {},
     "output_type": "execute_result"
    }
   ],
   "source": [
    "X_train = trainData['data']\n",
    "X_train"
   ]
  },
  {
   "cell_type": "code",
   "execution_count": 8,
   "metadata": {
    "executionInfo": {
     "elapsed": 23,
     "status": "ok",
     "timestamp": 1700915184343,
     "user": {
      "displayName": "Utsav Das",
      "userId": "03850994718273475390"
     },
     "user_tz": -330
    },
    "id": "UD4QwBtWACAi"
   },
   "outputs": [],
   "source": [
    "X_train = X_train.reshape(len(X_train),3,32,32).transpose(0,2,3,1)"
   ]
  },
  {
   "cell_type": "code",
   "execution_count": 9,
   "metadata": {
    "colab": {
     "base_uri": "https://localhost:8080/"
    },
    "executionInfo": {
     "elapsed": 19,
     "status": "ok",
     "timestamp": 1700915186811,
     "user": {
      "displayName": "Utsav Das",
      "userId": "03850994718273475390"
     },
     "user_tz": -330
    },
    "id": "DfM8OXjBBTUu",
    "outputId": "752315fc-7bd4-44ab-b885-9300ab81d9cb"
   },
   "outputs": [
    {
     "data": {
      "text/plain": [
       "(10000, 32, 32, 3)"
      ]
     },
     "execution_count": 9,
     "metadata": {},
     "output_type": "execute_result"
    }
   ],
   "source": [
    "#transforming the testing dataset\n",
    "X_test = testData['data']\n",
    "X_test = X_test.reshape(len(X_test),3,32,32).transpose(0,2,3,1)\n",
    "X_test.shape"
   ]
  },
  {
   "cell_type": "code",
   "execution_count": 10,
   "metadata": {
    "executionInfo": {
     "elapsed": 17,
     "status": "ok",
     "timestamp": 1700915186812,
     "user": {
      "displayName": "Utsav Das",
      "userId": "03850994718273475390"
     },
     "user_tz": -330
    },
    "id": "eIcIGDf7Bwwk"
   },
   "outputs": [],
   "source": [
    "y_train = trainData['fine_labels']\n",
    "#y_train\n",
    "\n",
    "y_test = testData['fine_labels']\n",
    "#y_test"
   ]
  },
  {
   "cell_type": "code",
   "execution_count": 11,
   "metadata": {
    "executionInfo": {
     "elapsed": 16,
     "status": "ok",
     "timestamp": 1700915186812,
     "user": {
      "displayName": "Utsav Das",
      "userId": "03850994718273475390"
     },
     "user_tz": -330
    },
    "id": "7kahpypjB0K6"
   },
   "outputs": [],
   "source": [
    "num_class = 100\n",
    "\n",
    "y_train = keras.utils.to_categorical(y_train, num_class)\n",
    "#y_train\n",
    "\n",
    "y_test = keras.utils.to_categorical(y_test, num_class)\n",
    "#y_test"
   ]
  },
  {
   "cell_type": "code",
   "execution_count": 12,
   "metadata": {
    "executionInfo": {
     "elapsed": 752,
     "status": "ok",
     "timestamp": 1700915187548,
     "user": {
      "displayName": "Utsav Das",
      "userId": "03850994718273475390"
     },
     "user_tz": -330
    },
    "id": "AaS6z0wJB7sx"
   },
   "outputs": [],
   "source": [
    "X_train = X_train / 255.\n",
    "#X_train\n",
    "\n",
    "X_test = X_test / 255.\n",
    "#X_test"
   ]
  },
  {
   "cell_type": "code",
   "execution_count": 13,
   "metadata": {},
   "outputs": [],
   "source": [
    "# initializing CNN model 3\n",
    "model = Sequential()\n",
    "\n",
    "#Stack 1\n",
    "#convolution\n",
    "model.add(Conv2D(filters=64, kernel_size=3, padding=\"same\", activation=\"relu\", input_shape=X_train.shape[1:]))\n",
    "model.add(Conv2D(filters=64, kernel_size=3, padding=\"same\", activation=\"relu\"))\n",
    "#pooling\n",
    "model.add(MaxPool2D(pool_size=2, strides=2))\n",
    "#dropout\n",
    "model.add(Dropout(0.2))\n",
    "\n",
    "#Stack 2\n",
    "#convolution\n",
    "model.add(Conv2D(filters=128, kernel_size=3, padding=\"same\", activation=\"relu\"))\n",
    "model.add(Conv2D(filters=128, kernel_size=3, padding=\"same\", activation=\"relu\"))\n",
    "#pooling\n",
    "model.add(MaxPool2D(pool_size=2, strides=2))\n",
    "#dropout\n",
    "model.add(Dropout(0.3))\n",
    "\n",
    "#Stack 3\n",
    "#convolution\n",
    "model.add(Conv2D(filters=256, kernel_size=3, padding=\"same\", activation=\"relu\"))\n",
    "model.add(Conv2D(filters=256, kernel_size=3, padding=\"same\", activation=\"relu\"))\n",
    "#pooling\n",
    "model.add(MaxPool2D(pool_size=2, strides=2))\n",
    "#dropout\n",
    "model.add(Dropout(0.3))\n",
    "\n",
    "#Stack 4\n",
    "#convolution\n",
    "model.add(Conv2D(filters=512, kernel_size=3, padding=\"same\", activation=\"relu\"))\n",
    "model.add(Conv2D(filters=512, kernel_size=3, padding=\"same\", activation=\"relu\"))\n",
    "#pooling\n",
    "model.add(MaxPool2D(pool_size=2, strides=2))\n",
    "#dropout\n",
    "model.add(Dropout(0.3))\n",
    "\n",
    "\n",
    "#flattening\n",
    "model.add(Flatten())\n",
    "\n",
    "#full connection\n",
    "model.add(Dense(units=2000, activation=\"relu\"))\n",
    "#dropout\n",
    "model.add(Dropout(0.3))\n",
    "\n",
    "#full connection\n",
    "model.add(Dense(units=1000, activation=\"relu\"))\n",
    "#dropout\n",
    "model.add(Dropout(0.3))\n",
    "\n",
    "#full connection\n",
    "model.add(Dense(units=500, activation=\"relu\"))\n",
    "#dropout\n",
    "model.add(Dropout(0.3))\n",
    "\n",
    "\n",
    "#output layer\n",
    "model.add(Dense(units=num_class, activation=\"softmax\"))"
   ]
  },
  {
   "cell_type": "code",
   "execution_count": 14,
   "metadata": {
    "colab": {
     "base_uri": "https://localhost:8080/"
    },
    "executionInfo": {
     "elapsed": 19,
     "status": "ok",
     "timestamp": 1700915188289,
     "user": {
      "displayName": "Utsav Das",
      "userId": "03850994718273475390"
     },
     "user_tz": -330
    },
    "id": "VFPJ6nT_CD6G",
    "outputId": "6323248b-ccec-42d6-cb6a-0737a1c5fa06"
   },
   "outputs": [
    {
     "name": "stdout",
     "output_type": "stream",
     "text": [
      "Model: \"sequential\"\n",
      "_________________________________________________________________\n",
      " Layer (type)                Output Shape              Param #   \n",
      "=================================================================\n",
      " conv2d (Conv2D)             (None, 32, 32, 64)        1792      \n",
      "                                                                 \n",
      " conv2d_1 (Conv2D)           (None, 32, 32, 64)        36928     \n",
      "                                                                 \n",
      " max_pooling2d (MaxPooling2D  (None, 16, 16, 64)       0         \n",
      " )                                                               \n",
      "                                                                 \n",
      " dropout (Dropout)           (None, 16, 16, 64)        0         \n",
      "                                                                 \n",
      " conv2d_2 (Conv2D)           (None, 16, 16, 128)       73856     \n",
      "                                                                 \n",
      " conv2d_3 (Conv2D)           (None, 16, 16, 128)       147584    \n",
      "                                                                 \n",
      " max_pooling2d_1 (MaxPooling  (None, 8, 8, 128)        0         \n",
      " 2D)                                                             \n",
      "                                                                 \n",
      " dropout_1 (Dropout)         (None, 8, 8, 128)         0         \n",
      "                                                                 \n",
      " conv2d_4 (Conv2D)           (None, 8, 8, 256)         295168    \n",
      "                                                                 \n",
      " conv2d_5 (Conv2D)           (None, 8, 8, 256)         590080    \n",
      "                                                                 \n",
      " max_pooling2d_2 (MaxPooling  (None, 4, 4, 256)        0         \n",
      " 2D)                                                             \n",
      "                                                                 \n",
      " dropout_2 (Dropout)         (None, 4, 4, 256)         0         \n",
      "                                                                 \n",
      " conv2d_6 (Conv2D)           (None, 4, 4, 512)         1180160   \n",
      "                                                                 \n",
      " conv2d_7 (Conv2D)           (None, 4, 4, 512)         2359808   \n",
      "                                                                 \n",
      " max_pooling2d_3 (MaxPooling  (None, 2, 2, 512)        0         \n",
      " 2D)                                                             \n",
      "                                                                 \n",
      " dropout_3 (Dropout)         (None, 2, 2, 512)         0         \n",
      "                                                                 \n",
      " flatten (Flatten)           (None, 2048)              0         \n",
      "                                                                 \n",
      " dense (Dense)               (None, 2000)              4098000   \n",
      "                                                                 \n",
      " dropout_4 (Dropout)         (None, 2000)              0         \n",
      "                                                                 \n",
      " dense_1 (Dense)             (None, 1000)              2001000   \n",
      "                                                                 \n",
      " dropout_5 (Dropout)         (None, 1000)              0         \n",
      "                                                                 \n",
      " dense_2 (Dense)             (None, 500)               500500    \n",
      "                                                                 \n",
      " dropout_6 (Dropout)         (None, 500)               0         \n",
      "                                                                 \n",
      " dense_3 (Dense)             (None, 100)               50100     \n",
      "                                                                 \n",
      "=================================================================\n",
      "Total params: 11,334,976\n",
      "Trainable params: 11,334,976\n",
      "Non-trainable params: 0\n",
      "_________________________________________________________________\n"
     ]
    }
   ],
   "source": [
    "model.summary()"
   ]
  },
  {
   "cell_type": "code",
   "execution_count": 15,
   "metadata": {
    "executionInfo": {
     "elapsed": 14,
     "status": "ok",
     "timestamp": 1700915188289,
     "user": {
      "displayName": "Utsav Das",
      "userId": "03850994718273475390"
     },
     "user_tz": -330
    },
    "id": "vyOzRQsYCGVQ"
   },
   "outputs": [],
   "source": [
    "epochs = 100\n",
    "batch_size = 64"
   ]
  },
  {
   "cell_type": "code",
   "execution_count": 16,
   "metadata": {
    "colab": {
     "base_uri": "https://localhost:8080/"
    },
    "executionInfo": {
     "elapsed": 461,
     "status": "ok",
     "timestamp": 1700915188737,
     "user": {
      "displayName": "Utsav Das",
      "userId": "03850994718273475390"
     },
     "user_tz": -330
    },
    "id": "PnrckGEeCPmY",
    "outputId": "1141f321-e9dc-4450-8c23-bc6e3a51dd75"
   },
   "outputs": [
    {
     "name": "stderr",
     "output_type": "stream",
     "text": [
      "C:\\Anaconda3\\envs\\tensorgpu\\lib\\site-packages\\keras\\optimizers\\optimizer_v2\\adam.py:114: UserWarning: The `lr` argument is deprecated, use `learning_rate` instead.\n",
      "  super().__init__(name, **kwargs)\n"
     ]
    }
   ],
   "source": [
    "optimizer = keras.optimizers.Adam(lr=0.0001)\n",
    "\n",
    "#model compiling\n",
    "model.compile(optimizer=optimizer, loss='categorical_crossentropy', metrics=['accuracy'])"
   ]
  },
  {
   "cell_type": "code",
   "execution_count": 17,
   "metadata": {
    "executionInfo": {
     "elapsed": 6,
     "status": "ok",
     "timestamp": 1700915188737,
     "user": {
      "displayName": "Utsav Das",
      "userId": "03850994718273475390"
     },
     "user_tz": -330
    },
    "id": "R2IYrRq-CR_g"
   },
   "outputs": [],
   "source": [
    "#early stopping to monitor the validation loss and avoid overfitting\n",
    "early_stop = EarlyStopping(monitor='val_loss', mode='min', verbose=1, patience=15)\n",
    "\n",
    "#saving the model checkpoint for the best model\n",
    "model_checkpoint = ModelCheckpoint('best_model.h5', monitor='val_loss', mode='min', save_best_only=True, verbose=1)"
   ]
  },
  {
   "cell_type": "code",
   "execution_count": 18,
   "metadata": {
    "executionInfo": {
     "elapsed": 1644,
     "status": "ok",
     "timestamp": 1700915190376,
     "user": {
      "displayName": "Utsav Das",
      "userId": "03850994718273475390"
     },
     "user_tz": -330
    },
    "id": "ms2JpSieCYIe"
   },
   "outputs": [],
   "source": [
    "#image augmentation to expand the training dataset\n",
    "#validation split to test the model\n",
    "data_gen = ImageDataGenerator(\n",
    "            shear_range=0.2,\n",
    "            zoom_range=0.2,\n",
    "            horizontal_flip=True,\n",
    "            featurewise_center=True,\n",
    "            width_shift_range=0.1,\n",
    "            validation_split=0.2)\n",
    "\n",
    "data_gen.fit(X_train, seed=123)\n",
    "\n",
    "train_data_gen = data_gen.flow(X_train, y_train,\n",
    "                               batch_size=batch_size,\n",
    "                               subset=\"training\", seed=123)\n",
    "\n",
    "valid_data_gen = data_gen.flow(X_train, y_train,\n",
    "                               batch_size=batch_size,\n",
    "                               subset=\"validation\", seed=123)"
   ]
  },
  {
   "cell_type": "code",
   "execution_count": 19,
   "metadata": {
    "colab": {
     "base_uri": "https://localhost:8080/"
    },
    "id": "CKZz4qV2Ccoy",
    "outputId": "48086a63-e43a-4358-c2b8-cba15ea3f6e1",
    "scrolled": false
   },
   "outputs": [
    {
     "name": "stdout",
     "output_type": "stream",
     "text": [
      "Epoch 1/100\n",
      "625/625 [==============================] - ETA: 0s - loss: 4.5101 - accuracy: 0.0150\n",
      "Epoch 1: val_loss improved from inf to 4.34487, saving model to best_model.h5\n",
      "625/625 [==============================] - 18s 24ms/step - loss: 4.5101 - accuracy: 0.0150 - val_loss: 4.3449 - val_accuracy: 0.0208\n",
      "Epoch 2/100\n",
      "625/625 [==============================] - ETA: 0s - loss: 4.2809 - accuracy: 0.0274\n",
      "Epoch 2: val_loss improved from 4.34487 to 4.11277, saving model to best_model.h5\n",
      "625/625 [==============================] - 15s 24ms/step - loss: 4.2809 - accuracy: 0.0274 - val_loss: 4.1128 - val_accuracy: 0.0456\n",
      "Epoch 3/100\n",
      "625/625 [==============================] - ETA: 0s - loss: 4.0279 - accuracy: 0.0554\n",
      "Epoch 3: val_loss improved from 4.11277 to 3.93353, saving model to best_model.h5\n",
      "625/625 [==============================] - 15s 24ms/step - loss: 4.0279 - accuracy: 0.0554 - val_loss: 3.9335 - val_accuracy: 0.0732\n",
      "Epoch 4/100\n",
      "623/625 [============================>.] - ETA: 0s - loss: 3.8464 - accuracy: 0.0839\n",
      "Epoch 4: val_loss improved from 3.93353 to 3.71984, saving model to best_model.h5\n",
      "625/625 [==============================] - 15s 25ms/step - loss: 3.8462 - accuracy: 0.0839 - val_loss: 3.7198 - val_accuracy: 0.1089\n",
      "Epoch 5/100\n",
      "625/625 [==============================] - ETA: 0s - loss: 3.7048 - accuracy: 0.1099\n",
      "Epoch 5: val_loss improved from 3.71984 to 3.55856, saving model to best_model.h5\n",
      "625/625 [==============================] - 15s 25ms/step - loss: 3.7048 - accuracy: 0.1099 - val_loss: 3.5586 - val_accuracy: 0.1339\n",
      "Epoch 6/100\n",
      "624/625 [============================>.] - ETA: 0s - loss: 3.5622 - accuracy: 0.1357\n",
      "Epoch 6: val_loss improved from 3.55856 to 3.43287, saving model to best_model.h5\n",
      "625/625 [==============================] - 15s 25ms/step - loss: 3.5625 - accuracy: 0.1356 - val_loss: 3.4329 - val_accuracy: 0.1580\n",
      "Epoch 7/100\n",
      "625/625 [==============================] - ETA: 0s - loss: 3.3991 - accuracy: 0.1672\n",
      "Epoch 7: val_loss improved from 3.43287 to 3.24737, saving model to best_model.h5\n",
      "625/625 [==============================] - 15s 24ms/step - loss: 3.3991 - accuracy: 0.1672 - val_loss: 3.2474 - val_accuracy: 0.1930\n",
      "Epoch 8/100\n",
      "625/625 [==============================] - ETA: 0s - loss: 3.2636 - accuracy: 0.1907\n",
      "Epoch 8: val_loss improved from 3.24737 to 3.12160, saving model to best_model.h5\n",
      "625/625 [==============================] - 15s 24ms/step - loss: 3.2636 - accuracy: 0.1907 - val_loss: 3.1216 - val_accuracy: 0.2149\n",
      "Epoch 9/100\n",
      "625/625 [==============================] - ETA: 0s - loss: 3.1533 - accuracy: 0.2126\n",
      "Epoch 9: val_loss improved from 3.12160 to 2.98076, saving model to best_model.h5\n",
      "625/625 [==============================] - 15s 24ms/step - loss: 3.1533 - accuracy: 0.2126 - val_loss: 2.9808 - val_accuracy: 0.2467\n",
      "Epoch 10/100\n",
      "624/625 [============================>.] - ETA: 0s - loss: 3.0488 - accuracy: 0.2353\n",
      "Epoch 10: val_loss improved from 2.98076 to 2.88997, saving model to best_model.h5\n",
      "625/625 [==============================] - 15s 24ms/step - loss: 3.0494 - accuracy: 0.2351 - val_loss: 2.8900 - val_accuracy: 0.2702\n",
      "Epoch 11/100\n",
      "625/625 [==============================] - ETA: 0s - loss: 2.9440 - accuracy: 0.2546\n",
      "Epoch 11: val_loss improved from 2.88997 to 2.82879, saving model to best_model.h5\n",
      "625/625 [==============================] - 15s 24ms/step - loss: 2.9440 - accuracy: 0.2546 - val_loss: 2.8288 - val_accuracy: 0.2784\n",
      "Epoch 12/100\n",
      "625/625 [==============================] - ETA: 0s - loss: 2.8509 - accuracy: 0.2736\n",
      "Epoch 12: val_loss improved from 2.82879 to 2.73504, saving model to best_model.h5\n",
      "625/625 [==============================] - 15s 24ms/step - loss: 2.8509 - accuracy: 0.2736 - val_loss: 2.7350 - val_accuracy: 0.2967\n",
      "Epoch 13/100\n",
      "625/625 [==============================] - ETA: 0s - loss: 2.7455 - accuracy: 0.2963\n",
      "Epoch 13: val_loss improved from 2.73504 to 2.60930, saving model to best_model.h5\n",
      "625/625 [==============================] - 15s 24ms/step - loss: 2.7455 - accuracy: 0.2963 - val_loss: 2.6093 - val_accuracy: 0.3282\n",
      "Epoch 14/100\n",
      "625/625 [==============================] - ETA: 0s - loss: 2.6632 - accuracy: 0.3114\n",
      "Epoch 14: val_loss improved from 2.60930 to 2.57939, saving model to best_model.h5\n",
      "625/625 [==============================] - 15s 24ms/step - loss: 2.6632 - accuracy: 0.3114 - val_loss: 2.5794 - val_accuracy: 0.3303\n",
      "Epoch 15/100\n",
      "624/625 [============================>.] - ETA: 0s - loss: 2.5874 - accuracy: 0.3270\n",
      "Epoch 15: val_loss improved from 2.57939 to 2.49918, saving model to best_model.h5\n",
      "625/625 [==============================] - 16s 25ms/step - loss: 2.5866 - accuracy: 0.3271 - val_loss: 2.4992 - val_accuracy: 0.3503\n",
      "Epoch 16/100\n",
      "623/625 [============================>.] - ETA: 0s - loss: 2.5157 - accuracy: 0.3402\n",
      "Epoch 16: val_loss improved from 2.49918 to 2.38668, saving model to best_model.h5\n",
      "625/625 [==============================] - 15s 24ms/step - loss: 2.5146 - accuracy: 0.3404 - val_loss: 2.3867 - val_accuracy: 0.3711\n",
      "Epoch 17/100\n",
      "623/625 [============================>.] - ETA: 0s - loss: 2.4397 - accuracy: 0.3574\n",
      "Epoch 17: val_loss improved from 2.38668 to 2.36005, saving model to best_model.h5\n",
      "625/625 [==============================] - 15s 25ms/step - loss: 2.4400 - accuracy: 0.3572 - val_loss: 2.3601 - val_accuracy: 0.3778\n",
      "Epoch 18/100\n",
      "625/625 [==============================] - ETA: 0s - loss: 2.3873 - accuracy: 0.3717\n",
      "Epoch 18: val_loss improved from 2.36005 to 2.30385, saving model to best_model.h5\n",
      "625/625 [==============================] - 15s 24ms/step - loss: 2.3873 - accuracy: 0.3717 - val_loss: 2.3038 - val_accuracy: 0.3895\n",
      "Epoch 19/100\n",
      "625/625 [==============================] - ETA: 0s - loss: 2.3192 - accuracy: 0.3872\n",
      "Epoch 19: val_loss improved from 2.30385 to 2.25999, saving model to best_model.h5\n",
      "625/625 [==============================] - 15s 24ms/step - loss: 2.3192 - accuracy: 0.3872 - val_loss: 2.2600 - val_accuracy: 0.4025\n",
      "Epoch 20/100\n",
      "625/625 [==============================] - ETA: 0s - loss: 2.2642 - accuracy: 0.3964\n",
      "Epoch 20: val_loss improved from 2.25999 to 2.21606, saving model to best_model.h5\n",
      "625/625 [==============================] - 15s 24ms/step - loss: 2.2642 - accuracy: 0.3964 - val_loss: 2.2161 - val_accuracy: 0.4075\n",
      "Epoch 21/100\n",
      "623/625 [============================>.] - ETA: 0s - loss: 2.2057 - accuracy: 0.4151\n",
      "Epoch 21: val_loss improved from 2.21606 to 2.16306, saving model to best_model.h5\n",
      "625/625 [==============================] - 15s 25ms/step - loss: 2.2064 - accuracy: 0.4149 - val_loss: 2.1631 - val_accuracy: 0.4209\n",
      "Epoch 22/100\n",
      "624/625 [============================>.] - ETA: 0s - loss: 2.1568 - accuracy: 0.4242\n",
      "Epoch 22: val_loss improved from 2.16306 to 2.13521, saving model to best_model.h5\n",
      "625/625 [==============================] - 16s 25ms/step - loss: 2.1572 - accuracy: 0.4241 - val_loss: 2.1352 - val_accuracy: 0.4274\n",
      "Epoch 23/100\n",
      "625/625 [==============================] - ETA: 0s - loss: 2.1118 - accuracy: 0.4315\n",
      "Epoch 23: val_loss did not improve from 2.13521\n",
      "625/625 [==============================] - 15s 24ms/step - loss: 2.1118 - accuracy: 0.4315 - val_loss: 2.1534 - val_accuracy: 0.4229\n",
      "Epoch 24/100\n",
      "625/625 [==============================] - ETA: 0s - loss: 2.0661 - accuracy: 0.4437\n",
      "Epoch 24: val_loss improved from 2.13521 to 2.09239, saving model to best_model.h5\n",
      "625/625 [==============================] - 15s 24ms/step - loss: 2.0661 - accuracy: 0.4437 - val_loss: 2.0924 - val_accuracy: 0.4393\n",
      "Epoch 25/100\n",
      "625/625 [==============================] - ETA: 0s - loss: 2.0183 - accuracy: 0.4524\n",
      "Epoch 25: val_loss did not improve from 2.09239\n",
      "625/625 [==============================] - 15s 25ms/step - loss: 2.0183 - accuracy: 0.4524 - val_loss: 2.1049 - val_accuracy: 0.4366\n",
      "Epoch 26/100\n",
      "623/625 [============================>.] - ETA: 0s - loss: 1.9843 - accuracy: 0.4654\n",
      "Epoch 26: val_loss improved from 2.09239 to 2.03106, saving model to best_model.h5\n",
      "625/625 [==============================] - 15s 24ms/step - loss: 1.9842 - accuracy: 0.4653 - val_loss: 2.0311 - val_accuracy: 0.4581\n",
      "Epoch 27/100\n",
      "623/625 [============================>.] - ETA: 0s - loss: 1.9397 - accuracy: 0.4721\n",
      "Epoch 27: val_loss improved from 2.03106 to 1.96861, saving model to best_model.h5\n",
      "625/625 [==============================] - 15s 24ms/step - loss: 1.9398 - accuracy: 0.4721 - val_loss: 1.9686 - val_accuracy: 0.4683\n",
      "Epoch 28/100\n",
      "625/625 [==============================] - ETA: 0s - loss: 1.9065 - accuracy: 0.4796\n",
      "Epoch 28: val_loss did not improve from 1.96861\n",
      "625/625 [==============================] - 15s 25ms/step - loss: 1.9065 - accuracy: 0.4796 - val_loss: 1.9911 - val_accuracy: 0.4690\n",
      "Epoch 29/100\n",
      "624/625 [============================>.] - ETA: 0s - loss: 1.8655 - accuracy: 0.4910\n",
      "Epoch 29: val_loss improved from 1.96861 to 1.94404, saving model to best_model.h5\n",
      "625/625 [==============================] - 15s 24ms/step - loss: 1.8653 - accuracy: 0.4911 - val_loss: 1.9440 - val_accuracy: 0.4758\n",
      "Epoch 30/100\n",
      "623/625 [============================>.] - ETA: 0s - loss: 1.8288 - accuracy: 0.4990\n",
      "Epoch 30: val_loss improved from 1.94404 to 1.92395, saving model to best_model.h5\n",
      "625/625 [==============================] - 15s 24ms/step - loss: 1.8291 - accuracy: 0.4991 - val_loss: 1.9240 - val_accuracy: 0.4788\n",
      "Epoch 31/100\n",
      "625/625 [==============================] - ETA: 0s - loss: 1.7939 - accuracy: 0.5043\n",
      "Epoch 31: val_loss improved from 1.92395 to 1.90262, saving model to best_model.h5\n",
      "625/625 [==============================] - 16s 25ms/step - loss: 1.7939 - accuracy: 0.5043 - val_loss: 1.9026 - val_accuracy: 0.4889\n",
      "Epoch 32/100\n",
      "625/625 [==============================] - ETA: 0s - loss: 1.7507 - accuracy: 0.5147\n",
      "Epoch 32: val_loss did not improve from 1.90262\n",
      "625/625 [==============================] - 15s 24ms/step - loss: 1.7507 - accuracy: 0.5147 - val_loss: 1.9051 - val_accuracy: 0.4861\n",
      "Epoch 33/100\n",
      "624/625 [============================>.] - ETA: 0s - loss: 1.7169 - accuracy: 0.5278\n",
      "Epoch 33: val_loss improved from 1.90262 to 1.86819, saving model to best_model.h5\n",
      "625/625 [==============================] - 15s 25ms/step - loss: 1.7171 - accuracy: 0.5275 - val_loss: 1.8682 - val_accuracy: 0.4924\n",
      "Epoch 34/100\n",
      "625/625 [==============================] - ETA: 0s - loss: 1.6834 - accuracy: 0.5310\n",
      "Epoch 34: val_loss did not improve from 1.86819\n",
      "625/625 [==============================] - 16s 25ms/step - loss: 1.6834 - accuracy: 0.5310 - val_loss: 1.8791 - val_accuracy: 0.4947\n",
      "Epoch 35/100\n",
      "624/625 [============================>.] - ETA: 0s - loss: 1.6661 - accuracy: 0.5363\n",
      "Epoch 35: val_loss improved from 1.86819 to 1.85992, saving model to best_model.h5\n",
      "625/625 [==============================] - 15s 24ms/step - loss: 1.6659 - accuracy: 0.5364 - val_loss: 1.8599 - val_accuracy: 0.4986\n",
      "Epoch 36/100\n",
      "625/625 [==============================] - ETA: 0s - loss: 1.6286 - accuracy: 0.5465\n",
      "Epoch 36: val_loss improved from 1.85992 to 1.84371, saving model to best_model.h5\n",
      "625/625 [==============================] - 15s 24ms/step - loss: 1.6286 - accuracy: 0.5465 - val_loss: 1.8437 - val_accuracy: 0.5089\n",
      "Epoch 37/100\n",
      "625/625 [==============================] - ETA: 0s - loss: 1.5911 - accuracy: 0.5569\n",
      "Epoch 37: val_loss improved from 1.84371 to 1.83695, saving model to best_model.h5\n",
      "625/625 [==============================] - 16s 26ms/step - loss: 1.5911 - accuracy: 0.5569 - val_loss: 1.8370 - val_accuracy: 0.5066\n",
      "Epoch 38/100\n",
      "624/625 [============================>.] - ETA: 0s - loss: 1.5606 - accuracy: 0.5658\n",
      "Epoch 38: val_loss improved from 1.83695 to 1.81578, saving model to best_model.h5\n",
      "625/625 [==============================] - 16s 25ms/step - loss: 1.5601 - accuracy: 0.5659 - val_loss: 1.8158 - val_accuracy: 0.5152\n",
      "Epoch 39/100\n",
      "625/625 [==============================] - ETA: 0s - loss: 1.5385 - accuracy: 0.5691\n",
      "Epoch 39: val_loss did not improve from 1.81578\n",
      "625/625 [==============================] - 15s 25ms/step - loss: 1.5385 - accuracy: 0.5691 - val_loss: 1.8334 - val_accuracy: 0.5145\n",
      "Epoch 40/100\n",
      "623/625 [============================>.] - ETA: 0s - loss: 1.5120 - accuracy: 0.5730\n",
      "Epoch 40: val_loss improved from 1.81578 to 1.79924, saving model to best_model.h5\n",
      "625/625 [==============================] - 16s 25ms/step - loss: 1.5121 - accuracy: 0.5730 - val_loss: 1.7992 - val_accuracy: 0.5185\n",
      "Epoch 41/100\n",
      "624/625 [============================>.] - ETA: 0s - loss: 1.4879 - accuracy: 0.5811\n",
      "Epoch 41: val_loss improved from 1.79924 to 1.77789, saving model to best_model.h5\n",
      "625/625 [==============================] - 16s 25ms/step - loss: 1.4880 - accuracy: 0.5810 - val_loss: 1.7779 - val_accuracy: 0.5183\n",
      "Epoch 42/100\n",
      "624/625 [============================>.] - ETA: 0s - loss: 1.4552 - accuracy: 0.5862\n",
      "Epoch 42: val_loss improved from 1.77789 to 1.76887, saving model to best_model.h5\n",
      "625/625 [==============================] - 15s 24ms/step - loss: 1.4550 - accuracy: 0.5863 - val_loss: 1.7689 - val_accuracy: 0.5272\n",
      "Epoch 43/100\n",
      "625/625 [==============================] - ETA: 0s - loss: 1.4268 - accuracy: 0.5952\n",
      "Epoch 43: val_loss improved from 1.76887 to 1.75488, saving model to best_model.h5\n",
      "625/625 [==============================] - 15s 25ms/step - loss: 1.4268 - accuracy: 0.5952 - val_loss: 1.7549 - val_accuracy: 0.5296\n",
      "Epoch 44/100\n",
      "625/625 [==============================] - ETA: 0s - loss: 1.4007 - accuracy: 0.6003\n",
      "Epoch 44: val_loss did not improve from 1.75488\n",
      "625/625 [==============================] - 15s 24ms/step - loss: 1.4007 - accuracy: 0.6003 - val_loss: 1.7653 - val_accuracy: 0.5326\n",
      "Epoch 45/100\n",
      "625/625 [==============================] - ETA: 0s - loss: 1.3812 - accuracy: 0.6047\n",
      "Epoch 45: val_loss did not improve from 1.75488\n",
      "625/625 [==============================] - 15s 23ms/step - loss: 1.3812 - accuracy: 0.6047 - val_loss: 1.7556 - val_accuracy: 0.5283\n",
      "Epoch 46/100\n",
      "625/625 [==============================] - ETA: 0s - loss: 1.3607 - accuracy: 0.6122\n",
      "Epoch 46: val_loss did not improve from 1.75488\n",
      "625/625 [==============================] - 15s 24ms/step - loss: 1.3607 - accuracy: 0.6122 - val_loss: 1.7597 - val_accuracy: 0.5392\n",
      "Epoch 47/100\n",
      "625/625 [==============================] - ETA: 0s - loss: 1.3348 - accuracy: 0.6208\n",
      "Epoch 47: val_loss improved from 1.75488 to 1.73908, saving model to best_model.h5\n",
      "625/625 [==============================] - 15s 24ms/step - loss: 1.3348 - accuracy: 0.6208 - val_loss: 1.7391 - val_accuracy: 0.5424\n",
      "Epoch 48/100\n",
      "625/625 [==============================] - ETA: 0s - loss: 1.3120 - accuracy: 0.6239\n",
      "Epoch 48: val_loss did not improve from 1.73908\n",
      "625/625 [==============================] - 15s 24ms/step - loss: 1.3120 - accuracy: 0.6239 - val_loss: 1.7690 - val_accuracy: 0.5396\n",
      "Epoch 49/100\n",
      "625/625 [==============================] - ETA: 0s - loss: 1.2939 - accuracy: 0.6283\n",
      "Epoch 49: val_loss improved from 1.73908 to 1.72956, saving model to best_model.h5\n",
      "625/625 [==============================] - 15s 24ms/step - loss: 1.2939 - accuracy: 0.6283 - val_loss: 1.7296 - val_accuracy: 0.5417\n",
      "Epoch 50/100\n",
      "625/625 [==============================] - ETA: 0s - loss: 1.2660 - accuracy: 0.6329\n",
      "Epoch 50: val_loss improved from 1.72956 to 1.71302, saving model to best_model.h5\n",
      "625/625 [==============================] - 15s 24ms/step - loss: 1.2660 - accuracy: 0.6329 - val_loss: 1.7130 - val_accuracy: 0.5473\n",
      "Epoch 51/100\n",
      "625/625 [==============================] - ETA: 0s - loss: 1.2421 - accuracy: 0.6411\n",
      "Epoch 51: val_loss did not improve from 1.71302\n",
      "625/625 [==============================] - 15s 24ms/step - loss: 1.2421 - accuracy: 0.6411 - val_loss: 1.7742 - val_accuracy: 0.5360\n",
      "Epoch 52/100\n",
      "625/625 [==============================] - ETA: 0s - loss: 1.2387 - accuracy: 0.6426\n",
      "Epoch 52: val_loss improved from 1.71302 to 1.71076, saving model to best_model.h5\n",
      "625/625 [==============================] - 15s 24ms/step - loss: 1.2387 - accuracy: 0.6426 - val_loss: 1.7108 - val_accuracy: 0.5485\n",
      "Epoch 53/100\n",
      "625/625 [==============================] - ETA: 0s - loss: 1.2006 - accuracy: 0.6506\n",
      "Epoch 53: val_loss did not improve from 1.71076\n",
      "625/625 [==============================] - 15s 24ms/step - loss: 1.2006 - accuracy: 0.6506 - val_loss: 1.7398 - val_accuracy: 0.5462\n",
      "Epoch 54/100\n",
      "625/625 [==============================] - ETA: 0s - loss: 1.1814 - accuracy: 0.6583\n",
      "Epoch 54: val_loss did not improve from 1.71076\n",
      "625/625 [==============================] - 15s 23ms/step - loss: 1.1814 - accuracy: 0.6583 - val_loss: 1.7762 - val_accuracy: 0.5517\n",
      "Epoch 55/100\n",
      "625/625 [==============================] - ETA: 0s - loss: 1.1613 - accuracy: 0.6586\n",
      "Epoch 55: val_loss did not improve from 1.71076\n",
      "625/625 [==============================] - 15s 24ms/step - loss: 1.1613 - accuracy: 0.6586 - val_loss: 1.7243 - val_accuracy: 0.5463\n",
      "Epoch 56/100\n",
      "625/625 [==============================] - ETA: 0s - loss: 1.1393 - accuracy: 0.6690\n",
      "Epoch 56: val_loss did not improve from 1.71076\n",
      "625/625 [==============================] - 15s 23ms/step - loss: 1.1393 - accuracy: 0.6690 - val_loss: 1.7235 - val_accuracy: 0.5539\n",
      "Epoch 57/100\n",
      "625/625 [==============================] - ETA: 0s - loss: 1.1209 - accuracy: 0.6754\n",
      "Epoch 57: val_loss did not improve from 1.71076\n",
      "625/625 [==============================] - 15s 23ms/step - loss: 1.1209 - accuracy: 0.6754 - val_loss: 1.7151 - val_accuracy: 0.5562\n",
      "Epoch 58/100\n",
      "625/625 [==============================] - ETA: 0s - loss: 1.1018 - accuracy: 0.6755\n",
      "Epoch 58: val_loss did not improve from 1.71076\n",
      "625/625 [==============================] - 15s 24ms/step - loss: 1.1018 - accuracy: 0.6755 - val_loss: 1.7577 - val_accuracy: 0.5566\n",
      "Epoch 59/100\n",
      "625/625 [==============================] - ETA: 0s - loss: 1.0848 - accuracy: 0.6831\n",
      "Epoch 59: val_loss did not improve from 1.71076\n",
      "625/625 [==============================] - 15s 24ms/step - loss: 1.0848 - accuracy: 0.6831 - val_loss: 1.7220 - val_accuracy: 0.5565\n",
      "Epoch 60/100\n",
      "625/625 [==============================] - ETA: 0s - loss: 1.0819 - accuracy: 0.6822\n",
      "Epoch 60: val_loss did not improve from 1.71076\n",
      "625/625 [==============================] - 15s 23ms/step - loss: 1.0819 - accuracy: 0.6822 - val_loss: 1.7402 - val_accuracy: 0.5572\n",
      "Epoch 61/100\n",
      "625/625 [==============================] - ETA: 0s - loss: 1.0417 - accuracy: 0.6930\n",
      "Epoch 61: val_loss did not improve from 1.71076\n",
      "625/625 [==============================] - 15s 25ms/step - loss: 1.0417 - accuracy: 0.6930 - val_loss: 1.7473 - val_accuracy: 0.5549\n",
      "Epoch 62/100\n",
      "625/625 [==============================] - ETA: 0s - loss: 1.0362 - accuracy: 0.6946\n",
      "Epoch 62: val_loss did not improve from 1.71076\n",
      "625/625 [==============================] - 15s 24ms/step - loss: 1.0362 - accuracy: 0.6946 - val_loss: 1.7380 - val_accuracy: 0.5639\n",
      "Epoch 63/100\n",
      "625/625 [==============================] - ETA: 0s - loss: 1.0271 - accuracy: 0.6959\n",
      "Epoch 63: val_loss did not improve from 1.71076\n",
      "625/625 [==============================] - 15s 23ms/step - loss: 1.0271 - accuracy: 0.6959 - val_loss: 1.7683 - val_accuracy: 0.5537\n",
      "Epoch 64/100\n",
      "625/625 [==============================] - ETA: 0s - loss: 1.0100 - accuracy: 0.7002\n",
      "Epoch 64: val_loss did not improve from 1.71076\n",
      "625/625 [==============================] - 15s 24ms/step - loss: 1.0100 - accuracy: 0.7002 - val_loss: 1.7233 - val_accuracy: 0.5683\n",
      "Epoch 65/100\n",
      "625/625 [==============================] - ETA: 0s - loss: 0.9924 - accuracy: 0.7045\n",
      "Epoch 65: val_loss improved from 1.71076 to 1.71051, saving model to best_model.h5\n",
      "625/625 [==============================] - 15s 24ms/step - loss: 0.9924 - accuracy: 0.7045 - val_loss: 1.7105 - val_accuracy: 0.5678\n",
      "Epoch 66/100\n",
      "625/625 [==============================] - ETA: 0s - loss: 0.9693 - accuracy: 0.7128\n",
      "Epoch 66: val_loss did not improve from 1.71051\n",
      "625/625 [==============================] - 15s 23ms/step - loss: 0.9693 - accuracy: 0.7128 - val_loss: 1.7303 - val_accuracy: 0.5673\n",
      "Epoch 67/100\n",
      "625/625 [==============================] - ETA: 0s - loss: 0.9575 - accuracy: 0.7162\n",
      "Epoch 67: val_loss did not improve from 1.71051\n",
      "625/625 [==============================] - 15s 24ms/step - loss: 0.9575 - accuracy: 0.7162 - val_loss: 1.7433 - val_accuracy: 0.5642\n",
      "Epoch 68/100\n",
      "625/625 [==============================] - ETA: 0s - loss: 0.9321 - accuracy: 0.7219\n",
      "Epoch 68: val_loss did not improve from 1.71051\n",
      "625/625 [==============================] - 15s 23ms/step - loss: 0.9321 - accuracy: 0.7219 - val_loss: 1.7570 - val_accuracy: 0.5634\n",
      "Epoch 69/100\n",
      "625/625 [==============================] - ETA: 0s - loss: 0.9234 - accuracy: 0.7247\n",
      "Epoch 69: val_loss did not improve from 1.71051\n",
      "625/625 [==============================] - 15s 23ms/step - loss: 0.9234 - accuracy: 0.7247 - val_loss: 1.7794 - val_accuracy: 0.5673\n",
      "Epoch 70/100\n",
      "625/625 [==============================] - ETA: 0s - loss: 0.9117 - accuracy: 0.7280\n",
      "Epoch 70: val_loss did not improve from 1.71051\n",
      "625/625 [==============================] - 15s 24ms/step - loss: 0.9117 - accuracy: 0.7280 - val_loss: 1.7213 - val_accuracy: 0.5665\n",
      "Epoch 71/100\n",
      "625/625 [==============================] - ETA: 0s - loss: 0.9089 - accuracy: 0.7300\n",
      "Epoch 71: val_loss did not improve from 1.71051\n",
      "625/625 [==============================] - 15s 24ms/step - loss: 0.9089 - accuracy: 0.7300 - val_loss: 1.7560 - val_accuracy: 0.5647\n",
      "Epoch 72/100\n",
      "625/625 [==============================] - ETA: 0s - loss: 0.8826 - accuracy: 0.7352\n",
      "Epoch 72: val_loss did not improve from 1.71051\n",
      "625/625 [==============================] - 15s 23ms/step - loss: 0.8826 - accuracy: 0.7352 - val_loss: 1.7761 - val_accuracy: 0.5687\n",
      "Epoch 73/100\n",
      "625/625 [==============================] - ETA: 0s - loss: 0.8780 - accuracy: 0.7379\n",
      "Epoch 73: val_loss did not improve from 1.71051\n",
      "625/625 [==============================] - 15s 24ms/step - loss: 0.8780 - accuracy: 0.7379 - val_loss: 1.7499 - val_accuracy: 0.5699\n",
      "Epoch 74/100\n",
      "625/625 [==============================] - ETA: 0s - loss: 0.8632 - accuracy: 0.7411\n",
      "Epoch 74: val_loss did not improve from 1.71051\n",
      "625/625 [==============================] - 15s 23ms/step - loss: 0.8632 - accuracy: 0.7411 - val_loss: 1.7660 - val_accuracy: 0.5647\n",
      "Epoch 75/100\n",
      "625/625 [==============================] - ETA: 0s - loss: 0.8417 - accuracy: 0.7466\n",
      "Epoch 75: val_loss did not improve from 1.71051\n",
      "625/625 [==============================] - 15s 23ms/step - loss: 0.8417 - accuracy: 0.7466 - val_loss: 1.7860 - val_accuracy: 0.5674\n",
      "Epoch 76/100\n",
      "625/625 [==============================] - ETA: 0s - loss: 0.8421 - accuracy: 0.7491\n",
      "Epoch 76: val_loss did not improve from 1.71051\n",
      "625/625 [==============================] - 15s 25ms/step - loss: 0.8421 - accuracy: 0.7491 - val_loss: 1.7387 - val_accuracy: 0.5733\n",
      "Epoch 77/100\n",
      "625/625 [==============================] - ETA: 0s - loss: 0.8219 - accuracy: 0.7527\n",
      "Epoch 77: val_loss did not improve from 1.71051\n",
      "625/625 [==============================] - 15s 24ms/step - loss: 0.8219 - accuracy: 0.7527 - val_loss: 1.7441 - val_accuracy: 0.5737\n",
      "Epoch 78/100\n",
      "623/625 [============================>.] - ETA: 0s - loss: 0.8210 - accuracy: 0.7506\n",
      "Epoch 78: val_loss did not improve from 1.71051\n",
      "625/625 [==============================] - 15s 24ms/step - loss: 0.8215 - accuracy: 0.7505 - val_loss: 1.7486 - val_accuracy: 0.5735\n",
      "Epoch 79/100\n",
      "625/625 [==============================] - ETA: 0s - loss: 0.8056 - accuracy: 0.7573\n",
      "Epoch 79: val_loss did not improve from 1.71051\n",
      "625/625 [==============================] - 15s 24ms/step - loss: 0.8056 - accuracy: 0.7573 - val_loss: 1.7940 - val_accuracy: 0.5718\n",
      "Epoch 80/100\n",
      "625/625 [==============================] - ETA: 0s - loss: 0.7944 - accuracy: 0.7612\n",
      "Epoch 80: val_loss did not improve from 1.71051\n",
      "625/625 [==============================] - 15s 24ms/step - loss: 0.7944 - accuracy: 0.7612 - val_loss: 1.7741 - val_accuracy: 0.5711\n",
      "Epoch 80: early stopping\n"
     ]
    }
   ],
   "source": [
    "model_history = model.fit(train_data_gen,\n",
    "                          steps_per_epoch=40000//batch_size,\n",
    "                          validation_data=valid_data_gen,\n",
    "                          validation_steps=10000//batch_size,\n",
    "                          callbacks=[early_stop, model_checkpoint],\n",
    "                          verbose=1,\n",
    "                          epochs=epochs)"
   ]
  },
  {
   "cell_type": "code",
   "execution_count": 22,
   "metadata": {
    "id": "TKbU5wDwCfXa"
   },
   "outputs": [
    {
     "data": {
      "image/png": "[encoded data removed]",
      "text/plain": [
       "<Figure size 1800x800 with 2 Axes>"
      ]
     },
     "metadata": {},
     "output_type": "display_data"
    }
   ],
   "source": [
    "#plot to visualize the loss and accuracy against number of epochs\n",
    "plt.figure(figsize=(18,8))\n",
    "\n",
    "plt.suptitle('Loss and Accuracy Plots', fontsize=18)\n",
    "\n",
    "plt.subplot(1,2,1)\n",
    "plt.plot(model_history.history['loss'], label='Training Loss')\n",
    "plt.plot(model_history.history['val_loss'], label='Validation Loss')\n",
    "plt.legend()\n",
    "plt.xlabel('Number of epochs', fontsize=15)\n",
    "plt.ylabel('Loss', fontsize=15)\n",
    "\n",
    "plt.subplot(1,2,2)\n",
    "plt.plot(model_history.history['accuracy'], label='Train Accuracy')\n",
    "plt.plot(model_history.history['val_accuracy'], label='Validation Accuracy')\n",
    "plt.legend()\n",
    "plt.xlabel('Number of epochs', fontsize=14)\n",
    "plt.ylabel('Accuracy', fontsize=14)\n",
    "plt.show()"
   ]
  },
  {
   "cell_type": "code",
   "execution_count": 23,
   "metadata": {
    "id": "Rvyr5IjOClAU"
   },
   "outputs": [
    {
     "name": "stderr",
     "output_type": "stream",
     "text": [
      "C:\\Users\\Dwaipayan Nandi\\AppData\\Local\\Temp\\ipykernel_14468\\2992606394.py:2: UserWarning: `Model.evaluate_generator` is deprecated and will be removed in a future version. Please use `Model.evaluate`, which supports generators.\n",
      "  valid_loss, valid_accuracy = model.evaluate_generator(generator=valid_data_gen, steps=10000//batch_size)\n",
      "C:\\Users\\Dwaipayan Nandi\\AppData\\Local\\Temp\\ipykernel_14468\\2992606394.py:3: UserWarning: `Model.evaluate_generator` is deprecated and will be removed in a future version. Please use `Model.evaluate`, which supports generators.\n",
      "  test_loss, test_accuracy = model.evaluate_generator(data_gen.flow(X_test, y_test, seed=123), steps=len(X_test)//batch_size)\n"
     ]
    },
    {
     "name": "stdout",
     "output_type": "stream",
     "text": [
      "Validation Accuracy:  57.52 %\n",
      "Test Accuracy:  56.93 %\n",
      " \n",
      "Validation Loss:  1.75\n",
      "Test Loss:  1.75\n"
     ]
    }
   ],
   "source": [
    "#train_loss, train_accuracy = model.evaluate_generator(generator=train_data_gen, steps=40000//batch_size)\n",
    "valid_loss, valid_accuracy = model.evaluate_generator(generator=valid_data_gen, steps=10000//batch_size)\n",
    "test_loss, test_accuracy = model.evaluate_generator(data_gen.flow(X_test, y_test, seed=123), steps=len(X_test)//batch_size)\n",
    "\n",
    "print('Validation Accuracy: ', round((valid_accuracy * 100), 2), \"%\")\n",
    "print('Test Accuracy: ', round((test_accuracy * 100), 2), \"%\")\n",
    "print(\" \")\n",
    "print('Validation Loss: ', round(valid_loss, 2))\n",
    "print('Test Loss: ', round(test_loss, 2))"
   ]
  },
  {
   "cell_type": "code",
   "execution_count": null,
   "metadata": {
    "id": "mAA2ErQDFLXv"
   },
   "outputs": [],
   "source": []
  }
 ],
 "metadata": {
  "accelerator": "GPU",
  "colab": {
   "authorship_tag": "ABX9TyO0FIetqxPZxOlLEkmP4Ndu",
   "provenance": []
  },
  "kernelspec": {
   "display_name": "tensorgpu",
   "language": "python",
   "name": "tensorgpu"
  },
  "language_info": {
   "codemirror_mode": {
    "name": "ipython",
    "version": 3
   },
   "file_extension": ".py",
   "mimetype": "text/x-python",
   "name": "python",
   "nbconvert_exporter": "python",
   "pygments_lexer": "ipython3",
   "version": "3.10.13"
  }
 },
 "nbformat": 4,
 "nbformat_minor": 1
}
